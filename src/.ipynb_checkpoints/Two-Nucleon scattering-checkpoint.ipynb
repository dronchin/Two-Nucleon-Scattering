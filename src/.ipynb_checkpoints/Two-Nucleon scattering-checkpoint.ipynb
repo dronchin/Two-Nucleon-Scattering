{
 "cells": [
  {
   "cell_type": "markdown",
   "metadata": {},
   "source": [
    "# Two Nucleon Scattering #\n",
    "\n",
    "Consider two nucleons each of mass $m=938$ MeV/$c^2$\n",
    "interacting via a central potential given by\n",
    "\n",
    "$$\n",
    "V(r) = \n",
    "\\begin{cases}\n",
    "              -V_0\\, \\quad\\quad           & \\text{for }                r \\leq R \\,  \\\\\n",
    "{\\color{white}-}0 \\, \\quad\\quad           & \\text{otherwise }\\,  \\\\\n",
    "\\end{cases}\n",
    "$$\n",
    "\n",
    "where $V_0$ is positive and $R=1.45$ fm."
   ]
  },
  {
   "cell_type": "code",
   "execution_count": 22,
   "metadata": {},
   "outputs": [],
   "source": [
    "import numpy as np\n",
    "from scipy import special as sp\n",
    "import matplotlib.pyplot as plt"
   ]
  },
  {
   "cell_type": "markdown",
   "metadata": {},
   "source": [
    "## Numerov's algorithm ##\n",
    "\n",
    "We seek the solution, $u(r)=r\\,R(r)$, of the radial equation\n",
    "\\begin{equation}\n",
    " -\\frac{\\hbar^2}{2\\,\\mu}u^{\\prime\\prime}(r) +V(r)\\,u(r) +\\frac{\\ell(\\ell+1)}{r^2}=E\\,u(r)\\, ,\n",
    "\\end{equation}\n",
    "where \n",
    "\\begin{eqnarray}\n",
    " E&=&\\frac{\\hbar^2\\,k^2}{2\\,\\mu}\\, , \\quad {\\rm and}\\quad \\quad  \\mu=\\frac{m}{2} \\, .\n",
    "\\end{eqnarray}\n",
    "We define\n",
    "\\begin{equation}\n",
    " v(r)=\\frac{2\\,\\mu}{\\hbar^2}\\,V(r) \\, ,\n",
    "\\end{equation}\n",
    "and rewrite the equation above  as\n",
    "\\begin{eqnarray}\n",
    "&& u^{\\prime\\prime}(r) +\\left[k^2 - v(r)\\,u(r) -\\frac{\\ell(\\ell+1)}{r^2}\\right]\\,u(r)=0\\, ,\\nonumber \n",
    "\\end{eqnarray}\n",
    "or\n",
    "\\begin{eqnarray}\n",
    "&& u^{\\prime\\prime}(r) + K(r) u(r)=0 \\, ,\n",
    "\\end{eqnarray}\n",
    "with \n",
    "\\begin{equation}\n",
    " K(r)=\\frac{2\\,\\mu}{\\hbar^2}\\left[E-V(r)\\right] - \\frac{\\ell(\\ell+1)}{r^2} \\, .\n",
    "\\end{equation}\n",
    "\n",
    "As $r\\rightarrow 0$, $u(r)\\rightarrow r^{(\\ell+1)}$. We use two grid points \n",
    "close to zero *e.g.*, $r_1=h$ and $r_2=2\\times h$, where $h$ is the \n",
    "step in $r$), and the solution calculated in these points, that is \n",
    "$u_1=u(r_1)=h^{\\ell+1}$ and $u_2=u(r_2)=(2\\times h)^{\\ell+1}$, to start building the\n",
    "solution outwards using the Numerov's method. \n",
    "\n",
    "The subsequent $u_i$'s calculated at $r_i$'s are obtained using the following\n",
    "algorithm\n",
    "\\begin{equation}\n",
    "u_{i+1}\\left(1+\\frac{h^2}{12}K_{i+1} \\right) -u_i\\,\\left(2-\\frac{5\\,h^2}{6}K_i\\right)+\n",
    "u_{i-1}\\left(1+\\frac{h^2}{12}K_{i-1} \\right) +O(h^6)=0 \\nonumber \\, . \n",
    "\\end{equation}\n",
    " \n",
    "You will need the physical constant $\\hbar\\,c = 197.326980$ MeV fm."
   ]
  },
  {
   "cell_type": "code",
   "execution_count": 2,
   "metadata": {},
   "outputs": [],
   "source": [
    "#Lets define some common variables\n",
    "mu = 938/2 #MeV/c^2\n",
    "hbarc = 197.326980 #MeV fm"
   ]
  },
  {
   "cell_type": "code",
   "execution_count": 126,
   "metadata": {
    "scrolled": true
   },
   "outputs": [
    {
     "data": {
      "image/png": "[encoded data removed]",
      "text/plain": [
       "<Figure size 432x288 with 1 Axes>"
      ]
     },
     "metadata": {
      "needs_background": "light"
     },
     "output_type": "display_data"
    }
   ],
   "source": [
    "def numerovWF(E,V0,R,l,n,Rmax):\n",
    "    '''Uses Numerov's algorithm to solve the radial equation and get the wavefunction for a nucleon \n",
    "    with energy E, scattered off of a potential V0. l is the angular momentum of the partial wave\n",
    "    under consideration.\n",
    "    n=number of points\n",
    "    R=radius of potential\n",
    "    Rmax=max integration point'''\n",
    "\n",
    "    h = Rmax/n\n",
    "\n",
    "    #Set up array for wavefuntion\n",
    "    wavefunc = np.zeros(n)\n",
    "    r = np.arange(h, Rmax+h, h)\n",
    "    V = np.zeros_like(r)\n",
    "\n",
    "    for i in range(len(V)):\n",
    "        if r[i] <= R:\n",
    "            V[i] = V0\n",
    "\n",
    "    K = 2*mu/hbarc**2*(E*np.ones_like(r) - V) - l*(l+1)/r**2\n",
    "\n",
    "    #solve approximation for first two steps r0 and r1\n",
    "    wavefunc[0] = r[0]**(l+1)\n",
    "    wavefunc[1] = r[1]**(l+1)\n",
    "\n",
    "    #loop over the rest of the wavefunction calculating r_i+1\n",
    "    for i in range(2,n):\n",
    "        wavefunc[i] = 1/(1+h**2/12*K[i])*(wavefunc[i-1]*(2-5*h**2*K[i-1]/6) - wavefunc[i-2]*(1+h**2*K[i-2]/12))\n",
    "        \n",
    "    return wavefunc\n",
    "\n",
    "\n",
    "E = 40\n",
    "V0 = -20\n",
    "R = 1.45\n",
    "l = 0\n",
    "n = 10000\n",
    "Rmax = 20\n",
    "k = np.sqrt(2*mu*E/hbarc**2)\n",
    "\n",
    "h = Rmax/n \n",
    "r = np.arange(h, Rmax+h, h)\n",
    "\n",
    "wavefunc = numerovWF(E, V0, R, l, n, Rmax)\n",
    "plt.plot(k*r, wavefunc/(k*r))\n",
    "plt.title(\"scattered wavefunction at {}MeV\".format(E))\n",
    "plt.ylabel(\"R(kr)\")\n",
    "plt.xlabel(\"kr\")\n",
    "plt.savefig(\"Wavefunc_l={}_{}MeV.png\".format(l,E), format=\"png\")\n",
    "plt.show()"
   ]
  },
  {
   "cell_type": "markdown",
   "metadata": {},
   "source": [
    "## phaseshifts ##\n",
    "\n",
    "just copy paste some latex stuff we write about this :)"
   ]
  },
  {
   "cell_type": "code",
   "execution_count": 113,
   "metadata": {},
   "outputs": [],
   "source": [
    "def phaseshift(wavefunc,E,l,n,Rmax):\n",
    "    '''Get the phaseshift from a scattered wave'''\n",
    "    h = Rmax/n\n",
    "    r1 = Rmax - h\n",
    "    r2 = Rmax\n",
    "    \n",
    "    #get wave momentum\n",
    "    k = np.sqrt(2*mu*E/hbarc**2)\n",
    "    alpha = (wavefunc[len(wavefunc)-2]/r1)/(wavefunc[len(wavefunc)-1]/r2)\n",
    "    \n",
    "    tandelta =(sp.spherical_jn(l,k*r1) - alpha*sp.spherical_jn(l,k*r2))/ \\\n",
    "                (sp.spherical_yn(l,k*r1) - alpha*sp.spherical_yn(l,k*r2))\n",
    "    phaseshift = np.arctan(tandelta)\n",
    "    \n",
    "    return phaseshift"
   ]
  },
  {
   "cell_type": "code",
   "execution_count": 121,
   "metadata": {},
   "outputs": [
    {
     "data": {
      "image/png": "[encoded data removed]",
      "text/plain": [
       "<Figure size 432x288 with 1 Axes>"
      ]
     },
     "metadata": {
      "needs_background": "light"
     },
     "output_type": "display_data"
    }
   ],
   "source": [
    "def phaseshift_analytical(E,V0):\n",
    "    \n",
    "    K1 = np.sqrt(2*mu/hbarc**2*(E - V0))\n",
    "    K0 = np.sqrt(2*mu*E/hbarc**2)\n",
    "    \n",
    "    tandelta = (np.cos(K0*R)*np.sin(K1*R) - K1/K0*np.cos(K1*R)*np.sin(K0*R))/ \\\n",
    "                (K1/K0*np.cos(K1*R)*np.cos(K0*R) + np.sin(K1*R)*np.sin(K0*R))\n",
    "    \n",
    "    phaseshift = np.arctan(tandelta)\n",
    "    \n",
    "    return phaseshift\n",
    "\n",
    "phases = []\n",
    "phases_analytical = []\n",
    "energies_analytical = np.arange(0.1,200,5)\n",
    "for e in energies:\n",
    "    wavefunc = numerovWF(e, V0, R, l, n, Rmax)\n",
    "    ps = phaseshift(wavefunc, e, l, n, Rmax)\n",
    "    ps_analytical = phaseshift_analytical(e,V0)\n",
    "    \n",
    "    phases.append(ps)\n",
    "    phases_analytical.append(ps_analytical)\n",
    "\n",
    "plt.plot(energies, phases, color='black')\n",
    "plt.plot(energies_analytical, phases_analytical, 'r.')\n",
    "plt.ylim(0,0.4)\n",
    "plt.show()\n"
   ]
  },
  {
   "cell_type": "code",
   "execution_count": null,
   "metadata": {},
   "outputs": [],
   "source": []
  },
  {
   "cell_type": "code",
   "execution_count": null,
   "metadata": {},
   "outputs": [],
   "source": [
    "def xsection( What_is_needed    ):\n",
    "    ''' '''\n",
    "    pass"
   ]
  },
  {
   "cell_type": "code",
   "execution_count": null,
   "metadata": {},
   "outputs": [],
   "source": []
  },
  {
   "cell_type": "code",
   "execution_count": null,
   "metadata": {},
   "outputs": [],
   "source": []
  },
  {
   "cell_type": "code",
   "execution_count": null,
   "metadata": {},
   "outputs": [],
   "source": []
  },
  {
   "cell_type": "code",
   "execution_count": null,
   "metadata": {},
   "outputs": [],
   "source": []
  },
  {
   "cell_type": "code",
   "execution_count": null,
   "metadata": {},
   "outputs": [],
   "source": []
  },
  {
   "cell_type": "code",
   "execution_count": null,
   "metadata": {},
   "outputs": [],
   "source": [
    "k = np.sqrt(2*mu*E/hbarc**2)\n",
    "spbes1 = sp.spherical_jn(0,k*r)\n",
    "spbes2 = sp.spherical_yn(0,k*r)\n",
    "\n",
    "\n",
    "print(k)\n",
    "plt.plot(r,spbes1)\n",
    "plt.plot(r,spbes2)\n",
    "plt.ylim(-1,1)\n",
    "plt.show()"
   ]
  },
  {
   "cell_type": "code",
   "execution_count": null,
   "metadata": {},
   "outputs": [],
   "source": []
  }
 ],
 "metadata": {
  "kernelspec": {
   "display_name": "Python 3",
   "language": "python",
   "name": "python3"
  },
  "language_info": {
   "codemirror_mode": {
    "name": "ipython",
    "version": 3
   },
   "file_extension": ".py",
   "mimetype": "text/x-python",
   "name": "python",
   "nbconvert_exporter": "python",
   "pygments_lexer": "ipython3",
   "version": "3.7.1"
  }
 },
 "nbformat": 4,
 "nbformat_minor": 2
}
